{
 "cells": [
  {
   "cell_type": "markdown",
   "id": "af67cda4-1e78-44a6-9394-dc73533f2c17",
   "metadata": {},
   "source": [
    "# Section1- understanding Vector"
   ]
  },
  {
   "cell_type": "code",
   "execution_count": 2,
   "id": "8497357c-7770-4692-a954-aa2b0407661d",
   "metadata": {},
   "outputs": [],
   "source": [
    "point_a = [3, 4]\n",
    "point_b = [1, 2]"
   ]
  },
  {
   "cell_type": "code",
   "execution_count": 3,
   "id": "f0c1696a-34f1-4a73-adce-1706dd69d33b",
   "metadata": {},
   "outputs": [
    {
     "name": "stdout",
     "output_type": "stream",
     "text": [
      "[3, 4] [1, 2]\n"
     ]
    }
   ],
   "source": [
    "print(point_a, point_b)\n",
    "\n"
   ]
  },
  {
   "cell_type": "code",
   "execution_count": 4,
   "id": "70cd5558-b5ee-4d05-aaf9-e8614e54bf84",
   "metadata": {},
   "outputs": [],
   "source": [
    "import matplotlib.pyplot as plt"
   ]
  },
  {
   "cell_type": "code",
   "execution_count": 5,
   "id": "856ae2f0-8502-4f86-8922-559d9639de44",
   "metadata": {},
   "outputs": [
    {
     "data": {
      "image/png": "[encoded data removed]",
      "text/plain": [
       "<Figure size 800x600 with 1 Axes>"
      ]
     },
     "metadata": {},
     "output_type": "display_data"
    }
   ],
   "source": [
    "plt.figure(figsize=(8, 6))\n",
    "plt.scatter([point_a[0]], [point_a[1]], color='red', s=100, label='Point A (3,4)')\n",
    "plt.scatter([point_b[0]], [point_b[1]], color='blue', s=100, label='Point B (1,2)')\n",
    "plt.grid(True, alpha=0.3)\n",
    "plt.xlabel('X-axis')\n",
    "plt.ylabel('Y-axis')\n",
    "plt.title('2D Vector Visualization')\n",
    "plt.legend()\n",
    "plt.axis('equal')\n",
    "plt.show()"
   ]
  },
  {
   "cell_type": "code",
   "execution_count": 6,
   "id": "a38ab3f7-d3c9-4a14-bb34-0829ebb68bf4",
   "metadata": {},
   "outputs": [],
   "source": [
    "embedding_example = [0.1, -0.3, 0.8, 0.2, -0.5]"
   ]
  },
  {
   "cell_type": "code",
   "execution_count": 7,
   "id": "b1cdc415-697e-414b-a9ed-8a44182152d3",
   "metadata": {},
   "outputs": [
    {
     "name": "stdout",
     "output_type": "stream",
     "text": [
      "[0.1, -0.3, 0.8, 0.2, -0.5]\n"
     ]
    }
   ],
   "source": [
    "print(embedding_example)"
   ]
  },
  {
   "cell_type": "markdown",
   "id": "3d3b9e2e-445f-4222-a548-72fef630c49f",
   "metadata": {},
   "source": [
    "# Section2: Vector Operations"
   ]
  },
  {
   "cell_type": "code",
   "execution_count": 8,
   "id": "df5e6082-6fcc-49b7-b4b7-7a18372b042d",
   "metadata": {},
   "outputs": [],
   "source": [
    "import numpy as np"
   ]
  },
  {
   "cell_type": "code",
   "execution_count": 9,
   "id": "3c5cff0c-b3a4-48bc-bac6-e45f4bf74743",
   "metadata": {},
   "outputs": [],
   "source": [
    "vector_a = np.array([3, 4])\n",
    "vector_b = np.array([1, 2])"
   ]
  },
  {
   "cell_type": "code",
   "execution_count": 10,
   "id": "65701955-29cb-4ba0-8d10-0a679d19b54c",
   "metadata": {},
   "outputs": [
    {
     "name": "stdout",
     "output_type": "stream",
     "text": [
      "[3 4] [1 2]\n"
     ]
    }
   ],
   "source": [
    "print(vector_a, vector_b)"
   ]
  },
  {
   "cell_type": "code",
   "execution_count": 11,
   "id": "9f3eac61-1df7-4149-acd1-c18ae7f8bc29",
   "metadata": {},
   "outputs": [],
   "source": [
    "dot_product_manual = vector_a[0] * vector_b[0] + vector_a[1] * vector_b[1]\n",
    "dot_product_numpy = np.dot(vector_a, vector_b)"
   ]
  },
  {
   "cell_type": "code",
   "execution_count": 13,
   "id": "f0b6f94a-b878-4d97-80b3-583a5e3d66cb",
   "metadata": {},
   "outputs": [
    {
     "name": "stdout",
     "output_type": "stream",
     "text": [
      "11\n"
     ]
    }
   ],
   "source": [
    "print(dot_product_numpy)"
   ]
  },
  {
   "cell_type": "code",
   "execution_count": 14,
   "id": "b0f5925a-fb20-4733-916a-158824d7fe1e",
   "metadata": {},
   "outputs": [
    {
     "name": "stdout",
     "output_type": "stream",
     "text": [
      "8\n"
     ]
    }
   ],
   "source": [
    "# Vectors are parallel (very similar)\n",
    "parallel_a = np.array([2,0])\n",
    "parallel_b = np.array([4,0])\n",
    "\n",
    "dot_product = np.dot(parallel_a, parallel_b)\n",
    "print(dot_product)\n"
   ]
  },
  {
   "cell_type": "code",
   "execution_count": null,
   "id": "0d2a6f24-347c-4918-a6ee-034a14d771d0",
   "metadata": {},
   "outputs": [],
   "source": []
  }
 ],
 "metadata": {
  "kernelspec": {
   "display_name": "Python 3 (ipykernel)",
   "language": "python",
   "name": "python3"
  },
  "language_info": {
   "codemirror_mode": {
    "name": "ipython",
    "version": 3
   },
   "file_extension": ".py",
   "mimetype": "text/x-python",
   "name": "python",
   "nbconvert_exporter": "python",
   "pygments_lexer": "ipython3",
   "version": "3.13.5"
  }
 },
 "nbformat": 4,
 "nbformat_minor": 5
}
